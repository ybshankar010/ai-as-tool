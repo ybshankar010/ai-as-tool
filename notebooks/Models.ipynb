{
 "cells": [
  {
   "cell_type": "code",
   "execution_count": 1,
   "id": "81a57b74",
   "metadata": {},
   "outputs": [],
   "source": [
    "import json\n",
    "from pathlib import Path\n",
    "import numpy as np\n",
    "import pandas as pd\n",
    "from sklearn.preprocessing import OneHotEncoder, StandardScaler\n",
    "from sklearn.compose import ColumnTransformer\n",
    "from sklearn.pipeline import Pipeline\n",
    "from sklearn.metrics import accuracy_score, precision_score, recall_score, f1_score, roc_auc_score\n",
    "from sklearn.dummy import DummyClassifier\n",
    "from sklearn.linear_model import LogisticRegression\n",
    "from sklearn.tree import DecisionTreeClassifier\n",
    "from sklearn.ensemble import RandomForestClassifier\n",
    "from sklearn.neighbors import KNeighborsClassifier\n",
    "from joblib import dump\n",
    "import warnings\n",
    "from lightgbm import LGBMClassifier"
   ]
  },
  {
   "cell_type": "code",
   "execution_count": 2,
   "id": "55ac791b",
   "metadata": {},
   "outputs": [],
   "source": [
    "DATA_DIR = Path(\"../data\")\n",
    "TRAIN_CSV = DATA_DIR / \"train.csv\"\n",
    "TEST_CSV  = DATA_DIR / \"test.csv\"\n",
    "MODELS_DIR = Path(\"../models\")\n",
    "MODELS_DIR.mkdir(parents=True, exist_ok=True)\n",
    "RANDOM_STATE = 42"
   ]
  },
  {
   "cell_type": "code",
   "execution_count": 3,
   "id": "ca55fad0",
   "metadata": {},
   "outputs": [],
   "source": [
    "train_df = pd.read_csv(TRAIN_CSV)\n",
    "test_df  = pd.read_csv(TEST_CSV)"
   ]
  },
  {
   "cell_type": "code",
   "execution_count": 4,
   "id": "dac41dc1",
   "metadata": {},
   "outputs": [],
   "source": [
    "X_train = train_df.drop(columns=[\"income\"])\n",
    "y_train = (train_df[\"income\"] == \">50K\").astype(int)\n",
    "X_test  = test_df.drop(columns=[\"income\"])\n",
    "y_test  = (test_df[\"income\"] == \">50K\").astype(int)"
   ]
  },
  {
   "cell_type": "code",
   "execution_count": 5,
   "id": "23eb5c38",
   "metadata": {},
   "outputs": [],
   "source": [
    "cat_cols = X_train.select_dtypes(include=\"object\").columns.tolist()\n",
    "num_cols = X_train.select_dtypes(exclude=\"object\").columns.tolist()"
   ]
  },
  {
   "cell_type": "code",
   "execution_count": 6,
   "id": "ecd627b7",
   "metadata": {},
   "outputs": [],
   "source": [
    "preprocessor = ColumnTransformer(\n",
    "    transformers=[\n",
    "        (\"num\", StandardScaler(), num_cols),\n",
    "        (\"cat\", OneHotEncoder(handle_unknown=\"ignore\"), cat_cols),\n",
    "    ]\n",
    ")"
   ]
  },
  {
   "cell_type": "code",
   "execution_count": 7,
   "id": "22c2bdf1",
   "metadata": {},
   "outputs": [],
   "source": [
    "models = {\n",
    "    \"dummy_most_frequent\": DummyClassifier(strategy=\"most_frequent\"),\n",
    "    \"logreg\": LogisticRegression(max_iter=1000, class_weight=\"balanced\", random_state=RANDOM_STATE),\n",
    "    \"dt_depth5\": DecisionTreeClassifier(max_depth=5, random_state=RANDOM_STATE),\n",
    "    \"rf_200\": RandomForestClassifier(n_estimators=200, random_state=RANDOM_STATE, n_jobs=-1),\n",
    "    \"knn_5\": KNeighborsClassifier(n_neighbors=5),\n",
    "    \"lgbm\" : LGBMClassifier(random_state=RANDOM_STATE)\n",
    "}"
   ]
  },
  {
   "cell_type": "code",
   "execution_count": 8,
   "id": "3d979359",
   "metadata": {},
   "outputs": [],
   "source": [
    "def evaluate(y_true, y_pred, y_prob=None):\n",
    "    if y_prob is None:\n",
    "        y_prob = np.where(y_pred == 1, 1.0, 0.0)\n",
    "    return {\n",
    "        \"accuracy\": float(accuracy_score(y_true, y_pred)),\n",
    "        \"precision_pos\": float(precision_score(y_true, y_pred, pos_label=1, zero_division=0)),\n",
    "        \"recall_pos\": float(recall_score(y_true, y_pred, pos_label=1, zero_division=0)),\n",
    "        \"f1_pos\": float(f1_score(y_true, y_pred, pos_label=1, zero_division=0)),\n",
    "        \"roc_auc\": float(roc_auc_score(y_true, y_prob)),\n",
    "    }"
   ]
  },
  {
   "cell_type": "code",
   "execution_count": 9,
   "id": "b1341663",
   "metadata": {},
   "outputs": [],
   "source": [
    "metadata = {\n",
    "    \"schema\": {\n",
    "        \"categorical\": cat_cols,\n",
    "        \"numerical\": num_cols,\n",
    "        \"target\": \"income\",\n",
    "        \"positive_class\": \">50K\",\n",
    "        \"mapping\": {\"<=50K\": 0, \">50K\": 1},\n",
    "    },\n",
    "    \"splits\": {\n",
    "        \"train_rows\": int(X_train.shape[0]),\n",
    "        \"test_rows\": int(X_test.shape[0]),\n",
    "    },\n",
    "    \"random_state\": RANDOM_STATE,\n",
    "    \"models\": {}\n",
    "}"
   ]
  },
  {
   "cell_type": "code",
   "execution_count": 10,
   "id": "c245e2dd",
   "metadata": {},
   "outputs": [
    {
     "name": "stdout",
     "output_type": "stream",
     "text": [
      "[LightGBM] [Info] Number of positive: 6271, number of negative: 19758\n",
      "[LightGBM] [Info] Auto-choosing row-wise multi-threading, the overhead of testing was 0.004190 seconds.\n",
      "You can set `force_row_wise=true` to remove the overhead.\n",
      "And if memory is not enough, you can set `force_col_wise=true`.\n",
      "[LightGBM] [Info] Total Bins 733\n",
      "[LightGBM] [Info] Number of data points in the train set: 26029, number of used features: 77\n",
      "[LightGBM] [Info] [binary:BoostFromScore]: pavg=0.240924 -> initscore=-1.147623\n",
      "[LightGBM] [Info] Start training from score -1.147623\n",
      "              model  accuracy  precision(>50K)  recall(>50K)  f1(>50K)  roc_auc\n",
      "               lgbm  0.866626         0.769231      0.637755  0.697350 0.921154\n",
      "             logreg  0.810541         0.573626      0.832270  0.679157 0.902374\n",
      "             rf_200  0.852028         0.730740      0.610969  0.665509 0.897452\n",
      "          dt_depth5  0.848187         0.771028      0.526148  0.625474 0.875400\n",
      "              knn_5  0.827443         0.660882      0.582908  0.619451 0.851708\n",
      "dummy_most_frequent  0.759066         0.000000      0.000000  0.000000 0.500000\n",
      "\n",
      "Saved to: ../models\n"
     ]
    },
    {
     "name": "stderr",
     "output_type": "stream",
     "text": [
      "/home/bhavani/Desktop/code/ai-as-tool/.venv/lib/python3.12/site-packages/sklearn/utils/validation.py:2749: UserWarning: X does not have valid feature names, but LGBMClassifier was fitted with feature names\n",
      "  warnings.warn(\n",
      "/home/bhavani/Desktop/code/ai-as-tool/.venv/lib/python3.12/site-packages/sklearn/utils/validation.py:2749: UserWarning: X does not have valid feature names, but LGBMClassifier was fitted with feature names\n",
      "  warnings.warn(\n"
     ]
    }
   ],
   "source": [
    "for name, model in models.items():\n",
    "    pipe = Pipeline([(\"prep\", preprocessor), (\"model\", model)])\n",
    "    pipe.fit(X_train, y_train)\n",
    "\n",
    "    y_pred = pipe.predict(X_test)\n",
    "    y_prob = pipe.predict_proba(X_test)[:, 1] if hasattr(pipe, \"predict_proba\") else None\n",
    "    mets = evaluate(y_test, y_pred, y_prob)\n",
    "\n",
    "    # save pipeline\n",
    "    pkl_path = MODELS_DIR / f\"model_{name}.pkl\"\n",
    "    dump(pipe, pkl_path)\n",
    "\n",
    "    # record in metadata\n",
    "    metadata[\"models\"][name] = {\n",
    "        \"path\": str(pkl_path),\n",
    "        \"metrics\": mets,\n",
    "    }\n",
    "\n",
    "# write metadata\n",
    "with open(MODELS_DIR / \"metadata.json\", \"w\") as f:\n",
    "    json.dump(metadata, f, indent=2)\n",
    "\n",
    "# print summary\n",
    "mdf = pd.DataFrame(\n",
    "    [(k, v[\"metrics\"][\"accuracy\"], v[\"metrics\"][\"precision_pos\"], v[\"metrics\"][\"recall_pos\"],\n",
    "      v[\"metrics\"][\"f1_pos\"], v[\"metrics\"][\"roc_auc\"])\n",
    "     for k, v in metadata[\"models\"].items()],\n",
    "    columns=[\"model\", \"accuracy\", \"precision(>50K)\", \"recall(>50K)\", \"f1(>50K)\", \"roc_auc\"]\n",
    ").sort_values(\"roc_auc\", ascending=False)\n",
    "print(mdf.to_string(index=False))\n",
    "print(f\"\\nSaved to: {MODELS_DIR}\")"
   ]
  },
  {
   "cell_type": "code",
   "execution_count": null,
   "id": "4ae3e258",
   "metadata": {},
   "outputs": [],
   "source": []
  }
 ],
 "metadata": {
  "kernelspec": {
   "display_name": "Python (ai-tool)",
   "language": "python",
   "name": "ai-as-tool"
  },
  "language_info": {
   "codemirror_mode": {
    "name": "ipython",
    "version": 3
   },
   "file_extension": ".py",
   "mimetype": "text/x-python",
   "name": "python",
   "nbconvert_exporter": "python",
   "pygments_lexer": "ipython3",
   "version": "3.12.7"
  }
 },
 "nbformat": 4,
 "nbformat_minor": 5
}
